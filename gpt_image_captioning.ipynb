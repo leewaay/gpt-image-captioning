{
 "cells": [
  {
   "cell_type": "code",
   "execution_count": 2,
   "metadata": {},
   "outputs": [],
   "source": [
    "import os\n",
    "from dotenv import load_dotenv\n",
    "from openai import OpenAI"
   ]
  },
  {
   "cell_type": "code",
   "execution_count": 3,
   "metadata": {},
   "outputs": [],
   "source": [
    "class caption_generator:\n",
    "    \n",
    "    def __init__(self) -> None:\n",
    "        load_dotenv()\n",
    "        self.client = OpenAI(api_key=os.getenv('OPENAI_API_KEY'))\n",
    "    \n",
    "    def generate(self, prompt: str, image_url: str):\n",
    "        response = self.client.chat.completions.create(\n",
    "            model=\"gpt-4-vision-preview\",\n",
    "            messages=[\n",
    "                {\n",
    "                    \"role\": \"user\",\n",
    "                    \"content\": [\n",
    "                        {\"type\": \"text\", \"text\": prompt},\n",
    "                        {\n",
    "                            \"type\": \"image_url\",\n",
    "                            \"image_url\": image_url,\n",
    "                        },\n",
    "                    ],\n",
    "                }\n",
    "            ],\n",
    "            max_tokens=300,\n",
    "        )\n",
    "\n",
    "        return response.choices[0].message.content"
   ]
  },
  {
   "cell_type": "code",
   "execution_count": 5,
   "metadata": {},
   "outputs": [],
   "source": [
    "generator = caption_generator()"
   ]
  },
  {
   "cell_type": "markdown",
   "metadata": {},
   "source": [
    "### Sample"
   ]
  },
  {
   "cell_type": "code",
   "execution_count": null,
   "metadata": {},
   "outputs": [],
   "source": [
    "image_url = \"https://upload.wikimedia.org/wikipedia/commons/thumb/d/dd/Gfp-wisconsin-madison-the-nature-boardwalk.jpg/2560px-Gfp-wisconsin-madison-the-nature-boardwalk.jpg\""
   ]
  },
  {
   "cell_type": "code",
   "execution_count": 11,
   "metadata": {},
   "outputs": [
    {
     "data": {
      "text/plain": [
       "'The image shows a wooden boardwalk trail extending through a lush green wetland or grassland. The boardwalk is surrounded by tall, dense grass on both sides, and there are scattered bushes and trees in the distance. The sky is partly cloudy with blue patches, suggesting a pleasant day with a mix of sun and cloud. The scene is likely a natural reserve or park, offering a serene setting for walking and enjoying nature.'"
      ]
     },
     "execution_count": 11,
     "metadata": {},
     "output_type": "execute_result"
    }
   ],
   "source": [
    "prompt = \"What’s in this image?\"\n",
    "generator.generate(prompt, image_url)"
   ]
  },
  {
   "cell_type": "code",
   "execution_count": 15,
   "metadata": {},
   "outputs": [
    {
     "data": {
      "text/plain": [
       "'이 이미지는 푸른 하늘과 뭉게구름이 있는 대낮의 풍경을 보여줍니다. 중앙에는 직선으로 뻗은 나무 데크 길이 있으며, 그 양옆으로는 푸른색을 띠고 있는 높은 풀들이 자라고 있습니다. 배경에는 나무와 덤불이 섞여 있는 작은 숲이 보입니다. 자연의 평화로움과 신선함이 느껴지는 사진입니다.'"
      ]
     },
     "execution_count": 15,
     "metadata": {},
     "output_type": "execute_result"
    }
   ],
   "source": [
    "prompt = \"What’s in this image? Respond in Korean.\"\n",
    "generator.generate(prompt, image_url)"
   ]
  },
  {
   "cell_type": "code",
   "execution_count": 13,
   "metadata": {},
   "outputs": [
    {
     "data": {
      "text/plain": [
       "'이 이미지에는 높은 풀이 무성한 들판 위로 만들어진 나무 데크 길이 있습니다. 길은 사진의 전면에서 시작하여 멀리 사라지는 지점까지 똑바로 뻗어 있으며, 이를 통해 방문자들이 습지나 초원 지역을 걸으며 자연을 관찰할 수 있는 것으로 보입니다. 사진의 배경에는 몇몇 나무와 부시가 있고, 하늘은 맑으며 구름이 조금 보입니다. 전반적으로 자연경관 사진으로 평화롭고 아름다운 느낌을 주고 있습니다.'"
      ]
     },
     "execution_count": 13,
     "metadata": {},
     "output_type": "execute_result"
    }
   ],
   "source": [
    "prompt = \"이 이미지에 무엇이 있나요?\"\n",
    "generator.generate(prompt, image_url)"
   ]
  }
 ],
 "metadata": {
  "kernelspec": {
   "display_name": "answerni",
   "language": "python",
   "name": "python3"
  },
  "language_info": {
   "codemirror_mode": {
    "name": "ipython",
    "version": 3
   },
   "file_extension": ".py",
   "mimetype": "text/x-python",
   "name": "python",
   "nbconvert_exporter": "python",
   "pygments_lexer": "ipython3",
   "version": "3.8.3"
  }
 },
 "nbformat": 4,
 "nbformat_minor": 2
}
